{
 "cells": [
  {
   "cell_type": "code",
   "execution_count": 2,
   "metadata": {},
   "outputs": [],
   "source": [
    "corpus=\"\"\"On a bright summer morning, the bustling city streets were alive with the sound of vendors setting up their stalls. \n",
    "People hurried past, some on their way to work, others simply enjoying a leisurely stroll. \n",
    "The scent of freshly baked bread filled the air as a bakery opened its doors for the day.\n",
    "Across the street, a group of tourists gathered around a guide, eager to learn about the city's rich history. \n",
    "Meanwhile, in a nearby park, children played on the swings, their laughter echoing through the trees. \n",
    "In the distance, a construction crew worked on a new high-rise building, the sound of machinery blending with the honking of cars. \n",
    "As the day went on, the sun climbed higher in the sky, casting long shadows on the pavement. \n",
    "The afternoon brought a light drizzle, cooling the air and prompting people to open their umbrellas. \n",
    "Despite the rain, the city remained vibrant, a constant hum of activity and life.\n",
    "\"\"\""
   ]
  },
  {
   "cell_type": "code",
   "execution_count": 3,
   "metadata": {},
   "outputs": [
    {
     "name": "stdout",
     "output_type": "stream",
     "text": [
      "On a bright summer morning, the bustling city streets were alive with the sound of vendors setting up their stalls. \n",
      "People hurried past, some on their way to work, others simply enjoying a leisurely stroll. \n",
      "The scent of freshly baked bread filled the air as a bakery opened its doors for the day.\n",
      "Across the street, a group of tourists gathered around a guide, eager to learn about the city's rich history. \n",
      "Meanwhile, in a nearby park, children played on the swings, their laughter echoing through the trees. \n",
      "In the distance, a construction crew worked on a new high-rise building, the sound of machinery blending with the honking of cars. \n",
      "As the day went on, the sun climbed higher in the sky, casting long shadows on the pavement. \n",
      "The afternoon brought a light drizzle, cooling the air and prompting people to open their umbrellas. \n",
      "Despite the rain, the city remained vibrant, a constant hum of activity and life.\n",
      "\n"
     ]
    }
   ],
   "source": [
    "print(corpus)"
   ]
  },
  {
   "cell_type": "code",
   "execution_count": 4,
   "metadata": {},
   "outputs": [],
   "source": [
    "# pip install nltk\n",
    "import nltk\n",
    "# nltk.download('punkt')"
   ]
  },
  {
   "cell_type": "markdown",
   "metadata": {},
   "source": [
    "SENTENCE TOKENIZATION"
   ]
  },
  {
   "cell_type": "code",
   "execution_count": 5,
   "metadata": {},
   "outputs": [],
   "source": [
    "from nltk.tokenize import sent_tokenize"
   ]
  },
  {
   "cell_type": "code",
   "execution_count": 6,
   "metadata": {},
   "outputs": [],
   "source": [
    "documents=sent_tokenize(corpus)"
   ]
  },
  {
   "cell_type": "code",
   "execution_count": 7,
   "metadata": {},
   "outputs": [
    {
     "name": "stdout",
     "output_type": "stream",
     "text": [
      "On a bright summer morning, the bustling city streets were alive with the sound of vendors setting up their stalls.\n",
      "People hurried past, some on their way to work, others simply enjoying a leisurely stroll.\n",
      "The scent of freshly baked bread filled the air as a bakery opened its doors for the day.\n",
      "Across the street, a group of tourists gathered around a guide, eager to learn about the city's rich history.\n",
      "Meanwhile, in a nearby park, children played on the swings, their laughter echoing through the trees.\n",
      "In the distance, a construction crew worked on a new high-rise building, the sound of machinery blending with the honking of cars.\n",
      "As the day went on, the sun climbed higher in the sky, casting long shadows on the pavement.\n",
      "The afternoon brought a light drizzle, cooling the air and prompting people to open their umbrellas.\n",
      "Despite the rain, the city remained vibrant, a constant hum of activity and life.\n"
     ]
    }
   ],
   "source": [
    "for doc in documents:\n",
    "    print(doc)"
   ]
  },
  {
   "cell_type": "markdown",
   "metadata": {},
   "source": [
    "WORD TOKENIZATION"
   ]
  },
  {
   "cell_type": "code",
   "execution_count": 8,
   "metadata": {},
   "outputs": [],
   "source": [
    "from nltk.tokenize import word_tokenize"
   ]
  },
  {
   "cell_type": "code",
   "execution_count": 9,
   "metadata": {},
   "outputs": [
    {
     "data": {
      "text/plain": [
       "['On',\n",
       " 'a',\n",
       " 'bright',\n",
       " 'summer',\n",
       " 'morning',\n",
       " ',',\n",
       " 'the',\n",
       " 'bustling',\n",
       " 'city',\n",
       " 'streets',\n",
       " 'were',\n",
       " 'alive',\n",
       " 'with',\n",
       " 'the',\n",
       " 'sound',\n",
       " 'of',\n",
       " 'vendors',\n",
       " 'setting',\n",
       " 'up',\n",
       " 'their',\n",
       " 'stalls',\n",
       " '.',\n",
       " 'People',\n",
       " 'hurried',\n",
       " 'past',\n",
       " ',',\n",
       " 'some',\n",
       " 'on',\n",
       " 'their',\n",
       " 'way',\n",
       " 'to',\n",
       " 'work',\n",
       " ',',\n",
       " 'others',\n",
       " 'simply',\n",
       " 'enjoying',\n",
       " 'a',\n",
       " 'leisurely',\n",
       " 'stroll',\n",
       " '.',\n",
       " 'The',\n",
       " 'scent',\n",
       " 'of',\n",
       " 'freshly',\n",
       " 'baked',\n",
       " 'bread',\n",
       " 'filled',\n",
       " 'the',\n",
       " 'air',\n",
       " 'as',\n",
       " 'a',\n",
       " 'bakery',\n",
       " 'opened',\n",
       " 'its',\n",
       " 'doors',\n",
       " 'for',\n",
       " 'the',\n",
       " 'day',\n",
       " '.',\n",
       " 'Across',\n",
       " 'the',\n",
       " 'street',\n",
       " ',',\n",
       " 'a',\n",
       " 'group',\n",
       " 'of',\n",
       " 'tourists',\n",
       " 'gathered',\n",
       " 'around',\n",
       " 'a',\n",
       " 'guide',\n",
       " ',',\n",
       " 'eager',\n",
       " 'to',\n",
       " 'learn',\n",
       " 'about',\n",
       " 'the',\n",
       " 'city',\n",
       " \"'s\",\n",
       " 'rich',\n",
       " 'history',\n",
       " '.',\n",
       " 'Meanwhile',\n",
       " ',',\n",
       " 'in',\n",
       " 'a',\n",
       " 'nearby',\n",
       " 'park',\n",
       " ',',\n",
       " 'children',\n",
       " 'played',\n",
       " 'on',\n",
       " 'the',\n",
       " 'swings',\n",
       " ',',\n",
       " 'their',\n",
       " 'laughter',\n",
       " 'echoing',\n",
       " 'through',\n",
       " 'the',\n",
       " 'trees',\n",
       " '.',\n",
       " 'In',\n",
       " 'the',\n",
       " 'distance',\n",
       " ',',\n",
       " 'a',\n",
       " 'construction',\n",
       " 'crew',\n",
       " 'worked',\n",
       " 'on',\n",
       " 'a',\n",
       " 'new',\n",
       " 'high-rise',\n",
       " 'building',\n",
       " ',',\n",
       " 'the',\n",
       " 'sound',\n",
       " 'of',\n",
       " 'machinery',\n",
       " 'blending',\n",
       " 'with',\n",
       " 'the',\n",
       " 'honking',\n",
       " 'of',\n",
       " 'cars',\n",
       " '.',\n",
       " 'As',\n",
       " 'the',\n",
       " 'day',\n",
       " 'went',\n",
       " 'on',\n",
       " ',',\n",
       " 'the',\n",
       " 'sun',\n",
       " 'climbed',\n",
       " 'higher',\n",
       " 'in',\n",
       " 'the',\n",
       " 'sky',\n",
       " ',',\n",
       " 'casting',\n",
       " 'long',\n",
       " 'shadows',\n",
       " 'on',\n",
       " 'the',\n",
       " 'pavement',\n",
       " '.',\n",
       " 'The',\n",
       " 'afternoon',\n",
       " 'brought',\n",
       " 'a',\n",
       " 'light',\n",
       " 'drizzle',\n",
       " ',',\n",
       " 'cooling',\n",
       " 'the',\n",
       " 'air',\n",
       " 'and',\n",
       " 'prompting',\n",
       " 'people',\n",
       " 'to',\n",
       " 'open',\n",
       " 'their',\n",
       " 'umbrellas',\n",
       " '.',\n",
       " 'Despite',\n",
       " 'the',\n",
       " 'rain',\n",
       " ',',\n",
       " 'the',\n",
       " 'city',\n",
       " 'remained',\n",
       " 'vibrant',\n",
       " ',',\n",
       " 'a',\n",
       " 'constant',\n",
       " 'hum',\n",
       " 'of',\n",
       " 'activity',\n",
       " 'and',\n",
       " 'life',\n",
       " '.']"
      ]
     },
     "execution_count": 9,
     "metadata": {},
     "output_type": "execute_result"
    }
   ],
   "source": [
    "word_tokenize(corpus)"
   ]
  },
  {
   "cell_type": "code",
   "execution_count": 10,
   "metadata": {},
   "outputs": [],
   "source": [
    "words=word_tokenize(corpus)"
   ]
  },
  {
   "cell_type": "code",
   "execution_count": 11,
   "metadata": {},
   "outputs": [],
   "source": [
    "# for w in words:\n",
    "#     print(w)"
   ]
  },
  {
   "cell_type": "code",
   "execution_count": 12,
   "metadata": {},
   "outputs": [],
   "source": [
    "#wordpunct_tokenize treats the punctuation such as ' to be seperate word"
   ]
  },
  {
   "cell_type": "code",
   "execution_count": 13,
   "metadata": {},
   "outputs": [],
   "source": [
    "from nltk.tokenize import wordpunct_tokenize"
   ]
  },
  {
   "cell_type": "code",
   "execution_count": 14,
   "metadata": {},
   "outputs": [
    {
     "data": {
      "text/plain": [
       "['On',\n",
       " 'a',\n",
       " 'bright',\n",
       " 'summer',\n",
       " 'morning',\n",
       " ',',\n",
       " 'the',\n",
       " 'bustling',\n",
       " 'city',\n",
       " 'streets',\n",
       " 'were',\n",
       " 'alive',\n",
       " 'with',\n",
       " 'the',\n",
       " 'sound',\n",
       " 'of',\n",
       " 'vendors',\n",
       " 'setting',\n",
       " 'up',\n",
       " 'their',\n",
       " 'stalls',\n",
       " '.',\n",
       " 'People',\n",
       " 'hurried',\n",
       " 'past',\n",
       " ',',\n",
       " 'some',\n",
       " 'on',\n",
       " 'their',\n",
       " 'way',\n",
       " 'to',\n",
       " 'work',\n",
       " ',',\n",
       " 'others',\n",
       " 'simply',\n",
       " 'enjoying',\n",
       " 'a',\n",
       " 'leisurely',\n",
       " 'stroll',\n",
       " '.',\n",
       " 'The',\n",
       " 'scent',\n",
       " 'of',\n",
       " 'freshly',\n",
       " 'baked',\n",
       " 'bread',\n",
       " 'filled',\n",
       " 'the',\n",
       " 'air',\n",
       " 'as',\n",
       " 'a',\n",
       " 'bakery',\n",
       " 'opened',\n",
       " 'its',\n",
       " 'doors',\n",
       " 'for',\n",
       " 'the',\n",
       " 'day',\n",
       " '.',\n",
       " 'Across',\n",
       " 'the',\n",
       " 'street',\n",
       " ',',\n",
       " 'a',\n",
       " 'group',\n",
       " 'of',\n",
       " 'tourists',\n",
       " 'gathered',\n",
       " 'around',\n",
       " 'a',\n",
       " 'guide',\n",
       " ',',\n",
       " 'eager',\n",
       " 'to',\n",
       " 'learn',\n",
       " 'about',\n",
       " 'the',\n",
       " 'city',\n",
       " \"'\",\n",
       " 's',\n",
       " 'rich',\n",
       " 'history',\n",
       " '.',\n",
       " 'Meanwhile',\n",
       " ',',\n",
       " 'in',\n",
       " 'a',\n",
       " 'nearby',\n",
       " 'park',\n",
       " ',',\n",
       " 'children',\n",
       " 'played',\n",
       " 'on',\n",
       " 'the',\n",
       " 'swings',\n",
       " ',',\n",
       " 'their',\n",
       " 'laughter',\n",
       " 'echoing',\n",
       " 'through',\n",
       " 'the',\n",
       " 'trees',\n",
       " '.',\n",
       " 'In',\n",
       " 'the',\n",
       " 'distance',\n",
       " ',',\n",
       " 'a',\n",
       " 'construction',\n",
       " 'crew',\n",
       " 'worked',\n",
       " 'on',\n",
       " 'a',\n",
       " 'new',\n",
       " 'high',\n",
       " '-',\n",
       " 'rise',\n",
       " 'building',\n",
       " ',',\n",
       " 'the',\n",
       " 'sound',\n",
       " 'of',\n",
       " 'machinery',\n",
       " 'blending',\n",
       " 'with',\n",
       " 'the',\n",
       " 'honking',\n",
       " 'of',\n",
       " 'cars',\n",
       " '.',\n",
       " 'As',\n",
       " 'the',\n",
       " 'day',\n",
       " 'went',\n",
       " 'on',\n",
       " ',',\n",
       " 'the',\n",
       " 'sun',\n",
       " 'climbed',\n",
       " 'higher',\n",
       " 'in',\n",
       " 'the',\n",
       " 'sky',\n",
       " ',',\n",
       " 'casting',\n",
       " 'long',\n",
       " 'shadows',\n",
       " 'on',\n",
       " 'the',\n",
       " 'pavement',\n",
       " '.',\n",
       " 'The',\n",
       " 'afternoon',\n",
       " 'brought',\n",
       " 'a',\n",
       " 'light',\n",
       " 'drizzle',\n",
       " ',',\n",
       " 'cooling',\n",
       " 'the',\n",
       " 'air',\n",
       " 'and',\n",
       " 'prompting',\n",
       " 'people',\n",
       " 'to',\n",
       " 'open',\n",
       " 'their',\n",
       " 'umbrellas',\n",
       " '.',\n",
       " 'Despite',\n",
       " 'the',\n",
       " 'rain',\n",
       " ',',\n",
       " 'the',\n",
       " 'city',\n",
       " 'remained',\n",
       " 'vibrant',\n",
       " ',',\n",
       " 'a',\n",
       " 'constant',\n",
       " 'hum',\n",
       " 'of',\n",
       " 'activity',\n",
       " 'and',\n",
       " 'life',\n",
       " '.']"
      ]
     },
     "execution_count": 14,
     "metadata": {},
     "output_type": "execute_result"
    }
   ],
   "source": [
    "wordpunct_tokenize(corpus)"
   ]
  },
  {
   "cell_type": "code",
   "execution_count": 15,
   "metadata": {},
   "outputs": [],
   "source": [
    "#Full stop is not treated as a seperate word in TreebankWordTokenizer. Only the last sentence full stop is treated as seperate word"
   ]
  },
  {
   "cell_type": "code",
   "execution_count": 16,
   "metadata": {},
   "outputs": [],
   "source": [
    "from nltk.tokenize import TreebankWordTokenizer"
   ]
  },
  {
   "cell_type": "code",
   "execution_count": 17,
   "metadata": {},
   "outputs": [],
   "source": [
    "tokeniser=TreebankWordTokenizer()"
   ]
  },
  {
   "cell_type": "code",
   "execution_count": 18,
   "metadata": {},
   "outputs": [
    {
     "data": {
      "text/plain": [
       "['On',\n",
       " 'a',\n",
       " 'bright',\n",
       " 'summer',\n",
       " 'morning',\n",
       " ',',\n",
       " 'the',\n",
       " 'bustling',\n",
       " 'city',\n",
       " 'streets',\n",
       " 'were',\n",
       " 'alive',\n",
       " 'with',\n",
       " 'the',\n",
       " 'sound',\n",
       " 'of',\n",
       " 'vendors',\n",
       " 'setting',\n",
       " 'up',\n",
       " 'their',\n",
       " 'stalls.',\n",
       " 'People',\n",
       " 'hurried',\n",
       " 'past',\n",
       " ',',\n",
       " 'some',\n",
       " 'on',\n",
       " 'their',\n",
       " 'way',\n",
       " 'to',\n",
       " 'work',\n",
       " ',',\n",
       " 'others',\n",
       " 'simply',\n",
       " 'enjoying',\n",
       " 'a',\n",
       " 'leisurely',\n",
       " 'stroll.',\n",
       " 'The',\n",
       " 'scent',\n",
       " 'of',\n",
       " 'freshly',\n",
       " 'baked',\n",
       " 'bread',\n",
       " 'filled',\n",
       " 'the',\n",
       " 'air',\n",
       " 'as',\n",
       " 'a',\n",
       " 'bakery',\n",
       " 'opened',\n",
       " 'its',\n",
       " 'doors',\n",
       " 'for',\n",
       " 'the',\n",
       " 'day.',\n",
       " 'Across',\n",
       " 'the',\n",
       " 'street',\n",
       " ',',\n",
       " 'a',\n",
       " 'group',\n",
       " 'of',\n",
       " 'tourists',\n",
       " 'gathered',\n",
       " 'around',\n",
       " 'a',\n",
       " 'guide',\n",
       " ',',\n",
       " 'eager',\n",
       " 'to',\n",
       " 'learn',\n",
       " 'about',\n",
       " 'the',\n",
       " 'city',\n",
       " \"'s\",\n",
       " 'rich',\n",
       " 'history.',\n",
       " 'Meanwhile',\n",
       " ',',\n",
       " 'in',\n",
       " 'a',\n",
       " 'nearby',\n",
       " 'park',\n",
       " ',',\n",
       " 'children',\n",
       " 'played',\n",
       " 'on',\n",
       " 'the',\n",
       " 'swings',\n",
       " ',',\n",
       " 'their',\n",
       " 'laughter',\n",
       " 'echoing',\n",
       " 'through',\n",
       " 'the',\n",
       " 'trees.',\n",
       " 'In',\n",
       " 'the',\n",
       " 'distance',\n",
       " ',',\n",
       " 'a',\n",
       " 'construction',\n",
       " 'crew',\n",
       " 'worked',\n",
       " 'on',\n",
       " 'a',\n",
       " 'new',\n",
       " 'high-rise',\n",
       " 'building',\n",
       " ',',\n",
       " 'the',\n",
       " 'sound',\n",
       " 'of',\n",
       " 'machinery',\n",
       " 'blending',\n",
       " 'with',\n",
       " 'the',\n",
       " 'honking',\n",
       " 'of',\n",
       " 'cars.',\n",
       " 'As',\n",
       " 'the',\n",
       " 'day',\n",
       " 'went',\n",
       " 'on',\n",
       " ',',\n",
       " 'the',\n",
       " 'sun',\n",
       " 'climbed',\n",
       " 'higher',\n",
       " 'in',\n",
       " 'the',\n",
       " 'sky',\n",
       " ',',\n",
       " 'casting',\n",
       " 'long',\n",
       " 'shadows',\n",
       " 'on',\n",
       " 'the',\n",
       " 'pavement.',\n",
       " 'The',\n",
       " 'afternoon',\n",
       " 'brought',\n",
       " 'a',\n",
       " 'light',\n",
       " 'drizzle',\n",
       " ',',\n",
       " 'cooling',\n",
       " 'the',\n",
       " 'air',\n",
       " 'and',\n",
       " 'prompting',\n",
       " 'people',\n",
       " 'to',\n",
       " 'open',\n",
       " 'their',\n",
       " 'umbrellas.',\n",
       " 'Despite',\n",
       " 'the',\n",
       " 'rain',\n",
       " ',',\n",
       " 'the',\n",
       " 'city',\n",
       " 'remained',\n",
       " 'vibrant',\n",
       " ',',\n",
       " 'a',\n",
       " 'constant',\n",
       " 'hum',\n",
       " 'of',\n",
       " 'activity',\n",
       " 'and',\n",
       " 'life',\n",
       " '.']"
      ]
     },
     "execution_count": 18,
     "metadata": {},
     "output_type": "execute_result"
    }
   ],
   "source": [
    "tokeniser.tokenize(corpus)"
   ]
  },
  {
   "cell_type": "markdown",
   "metadata": {},
   "source": [
    "STEMMING"
   ]
  },
  {
   "cell_type": "markdown",
   "metadata": {},
   "source": [
    "PORTER STEMMER"
   ]
  },
  {
   "cell_type": "code",
   "execution_count": 19,
   "metadata": {},
   "outputs": [],
   "source": [
    "from nltk.stem import PorterStemmer"
   ]
  },
  {
   "cell_type": "code",
   "execution_count": 20,
   "metadata": {},
   "outputs": [],
   "source": [
    "porter=PorterStemmer()"
   ]
  },
  {
   "cell_type": "code",
   "execution_count": 21,
   "metadata": {},
   "outputs": [
    {
     "name": "stdout",
     "output_type": "stream",
     "text": [
      "On on\n",
      "a a\n",
      "bright bright\n",
      "summer summer\n",
      "morning morn\n",
      ", ,\n",
      "the the\n",
      "bustling bustl\n",
      "city citi\n",
      "streets street\n",
      "were were\n",
      "alive aliv\n",
      "with with\n",
      "the the\n",
      "sound sound\n",
      "of of\n",
      "vendors vendor\n",
      "setting set\n",
      "up up\n",
      "their their\n",
      "stalls stall\n",
      ". .\n",
      "People peopl\n",
      "hurried hurri\n",
      "past past\n",
      ", ,\n",
      "some some\n",
      "on on\n",
      "their their\n",
      "way way\n",
      "to to\n",
      "work work\n",
      ", ,\n",
      "others other\n",
      "simply simpli\n",
      "enjoying enjoy\n",
      "a a\n",
      "leisurely leisur\n",
      "stroll stroll\n",
      ". .\n",
      "The the\n",
      "scent scent\n",
      "of of\n",
      "freshly freshli\n",
      "baked bake\n",
      "bread bread\n",
      "filled fill\n",
      "the the\n",
      "air air\n",
      "as as\n",
      "a a\n",
      "bakery bakeri\n",
      "opened open\n",
      "its it\n",
      "doors door\n",
      "for for\n",
      "the the\n",
      "day day\n",
      ". .\n",
      "Across across\n",
      "the the\n",
      "street street\n",
      ", ,\n",
      "a a\n",
      "group group\n",
      "of of\n",
      "tourists tourist\n",
      "gathered gather\n",
      "around around\n",
      "a a\n",
      "guide guid\n",
      ", ,\n",
      "eager eager\n",
      "to to\n",
      "learn learn\n",
      "about about\n",
      "the the\n",
      "city citi\n",
      "'s 's\n",
      "rich rich\n",
      "history histori\n",
      ". .\n",
      "Meanwhile meanwhil\n",
      ", ,\n",
      "in in\n",
      "a a\n",
      "nearby nearbi\n",
      "park park\n",
      ", ,\n",
      "children children\n",
      "played play\n",
      "on on\n",
      "the the\n",
      "swings swing\n",
      ", ,\n",
      "their their\n",
      "laughter laughter\n",
      "echoing echo\n",
      "through through\n",
      "the the\n",
      "trees tree\n",
      ". .\n",
      "In in\n",
      "the the\n",
      "distance distanc\n",
      ", ,\n",
      "a a\n",
      "construction construct\n",
      "crew crew\n",
      "worked work\n",
      "on on\n",
      "a a\n",
      "new new\n",
      "high-rise high-ris\n",
      "building build\n",
      ", ,\n",
      "the the\n",
      "sound sound\n",
      "of of\n",
      "machinery machineri\n",
      "blending blend\n",
      "with with\n",
      "the the\n",
      "honking honk\n",
      "of of\n",
      "cars car\n",
      ". .\n",
      "As as\n",
      "the the\n",
      "day day\n",
      "went went\n",
      "on on\n",
      ", ,\n",
      "the the\n",
      "sun sun\n",
      "climbed climb\n",
      "higher higher\n",
      "in in\n",
      "the the\n",
      "sky sky\n",
      ", ,\n",
      "casting cast\n",
      "long long\n",
      "shadows shadow\n",
      "on on\n",
      "the the\n",
      "pavement pavement\n",
      ". .\n",
      "The the\n",
      "afternoon afternoon\n",
      "brought brought\n",
      "a a\n",
      "light light\n",
      "drizzle drizzl\n",
      ", ,\n",
      "cooling cool\n",
      "the the\n",
      "air air\n",
      "and and\n",
      "prompting prompt\n",
      "people peopl\n",
      "to to\n",
      "open open\n",
      "their their\n",
      "umbrellas umbrella\n",
      ". .\n",
      "Despite despit\n",
      "the the\n",
      "rain rain\n",
      ", ,\n",
      "the the\n",
      "city citi\n",
      "remained remain\n",
      "vibrant vibrant\n",
      ", ,\n",
      "a a\n",
      "constant constant\n",
      "hum hum\n",
      "of of\n",
      "activity activ\n",
      "and and\n",
      "life life\n",
      ". .\n"
     ]
    }
   ],
   "source": [
    "for word in words:\n",
    "    print(word+' '+porter.stem(word))"
   ]
  },
  {
   "cell_type": "markdown",
   "metadata": {},
   "source": [
    "REGEXPSTEMMER"
   ]
  },
  {
   "cell_type": "code",
   "execution_count": 22,
   "metadata": {},
   "outputs": [],
   "source": [
    "from nltk.stem import RegexpStemmer"
   ]
  },
  {
   "cell_type": "code",
   "execution_count": 23,
   "metadata": {},
   "outputs": [],
   "source": [
    "reg_stem=RegexpStemmer('ing$|s$|e$|able$', min=4)"
   ]
  },
  {
   "cell_type": "code",
   "execution_count": 24,
   "metadata": {},
   "outputs": [
    {
     "data": {
      "text/plain": [
       "'Work'"
      ]
     },
     "execution_count": 24,
     "metadata": {},
     "output_type": "execute_result"
    }
   ],
   "source": [
    "reg_stem.stem('Working')"
   ]
  },
  {
   "cell_type": "code",
   "execution_count": 25,
   "metadata": {},
   "outputs": [
    {
     "data": {
      "text/plain": [
       "'meaning'"
      ]
     },
     "execution_count": 25,
     "metadata": {},
     "output_type": "execute_result"
    }
   ],
   "source": [
    "reg_stem.stem('meanings')"
   ]
  },
  {
   "cell_type": "code",
   "execution_count": 26,
   "metadata": {},
   "outputs": [
    {
     "data": {
      "text/plain": [
       "'bear'"
      ]
     },
     "execution_count": 26,
     "metadata": {},
     "output_type": "execute_result"
    }
   ],
   "source": [
    "reg_stem.stem('bearable')"
   ]
  },
  {
   "cell_type": "markdown",
   "metadata": {},
   "source": [
    "SNOWBALL STEMMER"
   ]
  },
  {
   "cell_type": "code",
   "execution_count": 27,
   "metadata": {},
   "outputs": [],
   "source": [
    "from nltk.stem import SnowballStemmer"
   ]
  },
  {
   "cell_type": "code",
   "execution_count": 28,
   "metadata": {},
   "outputs": [],
   "source": [
    "snow_stem=SnowballStemmer(language='english')"
   ]
  },
  {
   "cell_type": "code",
   "execution_count": 29,
   "metadata": {},
   "outputs": [
    {
     "name": "stdout",
     "output_type": "stream",
     "text": [
      "On- on\n",
      "a- a\n",
      "bright- bright\n",
      "summer- summer\n",
      "morning- morn\n",
      ",- ,\n",
      "the- the\n",
      "bustling- bustl\n",
      "city- citi\n",
      "streets- street\n",
      "were- were\n",
      "alive- aliv\n",
      "with- with\n",
      "the- the\n",
      "sound- sound\n",
      "of- of\n",
      "vendors- vendor\n",
      "setting- set\n",
      "up- up\n",
      "their- their\n",
      "stalls- stall\n",
      ".- .\n",
      "People- peopl\n",
      "hurried- hurri\n",
      "past- past\n",
      ",- ,\n",
      "some- some\n",
      "on- on\n",
      "their- their\n",
      "way- way\n",
      "to- to\n",
      "work- work\n",
      ",- ,\n",
      "others- other\n",
      "simply- simpli\n",
      "enjoying- enjoy\n",
      "a- a\n",
      "leisurely- leisur\n",
      "stroll- stroll\n",
      ".- .\n",
      "The- the\n",
      "scent- scent\n",
      "of- of\n",
      "freshly- fresh\n",
      "baked- bake\n",
      "bread- bread\n",
      "filled- fill\n",
      "the- the\n",
      "air- air\n",
      "as- as\n",
      "a- a\n",
      "bakery- bakeri\n",
      "opened- open\n",
      "its- it\n",
      "doors- door\n",
      "for- for\n",
      "the- the\n",
      "day- day\n",
      ".- .\n",
      "Across- across\n",
      "the- the\n",
      "street- street\n",
      ",- ,\n",
      "a- a\n",
      "group- group\n",
      "of- of\n",
      "tourists- tourist\n",
      "gathered- gather\n",
      "around- around\n",
      "a- a\n",
      "guide- guid\n",
      ",- ,\n",
      "eager- eager\n",
      "to- to\n",
      "learn- learn\n",
      "about- about\n",
      "the- the\n",
      "city- citi\n",
      "'s- 's\n",
      "rich- rich\n",
      "history- histori\n",
      ".- .\n",
      "Meanwhile- meanwhil\n",
      ",- ,\n",
      "in- in\n",
      "a- a\n",
      "nearby- nearbi\n",
      "park- park\n",
      ",- ,\n",
      "children- children\n",
      "played- play\n",
      "on- on\n",
      "the- the\n",
      "swings- swing\n",
      ",- ,\n",
      "their- their\n",
      "laughter- laughter\n",
      "echoing- echo\n",
      "through- through\n",
      "the- the\n",
      "trees- tree\n",
      ".- .\n",
      "In- in\n",
      "the- the\n",
      "distance- distanc\n",
      ",- ,\n",
      "a- a\n",
      "construction- construct\n",
      "crew- crew\n",
      "worked- work\n",
      "on- on\n",
      "a- a\n",
      "new- new\n",
      "high-rise- high-ris\n",
      "building- build\n",
      ",- ,\n",
      "the- the\n",
      "sound- sound\n",
      "of- of\n",
      "machinery- machineri\n",
      "blending- blend\n",
      "with- with\n",
      "the- the\n",
      "honking- honk\n",
      "of- of\n",
      "cars- car\n",
      ".- .\n",
      "As- as\n",
      "the- the\n",
      "day- day\n",
      "went- went\n",
      "on- on\n",
      ",- ,\n",
      "the- the\n",
      "sun- sun\n",
      "climbed- climb\n",
      "higher- higher\n",
      "in- in\n",
      "the- the\n",
      "sky- sky\n",
      ",- ,\n",
      "casting- cast\n",
      "long- long\n",
      "shadows- shadow\n",
      "on- on\n",
      "the- the\n",
      "pavement- pavement\n",
      ".- .\n",
      "The- the\n",
      "afternoon- afternoon\n",
      "brought- brought\n",
      "a- a\n",
      "light- light\n",
      "drizzle- drizzl\n",
      ",- ,\n",
      "cooling- cool\n",
      "the- the\n",
      "air- air\n",
      "and- and\n",
      "prompting- prompt\n",
      "people- peopl\n",
      "to- to\n",
      "open- open\n",
      "their- their\n",
      "umbrellas- umbrella\n",
      ".- .\n",
      "Despite- despit\n",
      "the- the\n",
      "rain- rain\n",
      ",- ,\n",
      "the- the\n",
      "city- citi\n",
      "remained- remain\n",
      "vibrant- vibrant\n",
      ",- ,\n",
      "a- a\n",
      "constant- constant\n",
      "hum- hum\n",
      "of- of\n",
      "activity- activ\n",
      "and- and\n",
      "life- life\n",
      ".- .\n"
     ]
    }
   ],
   "source": [
    "for word in words:\n",
    "    print(word+'- '+snow_stem.stem(word))"
   ]
  },
  {
   "cell_type": "code",
   "execution_count": 30,
   "metadata": {},
   "outputs": [
    {
     "data": {
      "text/plain": [
       "'go'"
      ]
     },
     "execution_count": 30,
     "metadata": {},
     "output_type": "execute_result"
    }
   ],
   "source": [
    "snow_stem.stem('Going')"
   ]
  },
  {
   "cell_type": "code",
   "execution_count": 31,
   "metadata": {},
   "outputs": [
    {
     "data": {
      "text/plain": [
       "'goe'"
      ]
     },
     "execution_count": 31,
     "metadata": {},
     "output_type": "execute_result"
    }
   ],
   "source": [
    "snow_stem.stem('Goes') #Incorrect word "
   ]
  },
  {
   "cell_type": "markdown",
   "metadata": {},
   "source": [
    "LEMMETIZATION"
   ]
  },
  {
   "cell_type": "code",
   "execution_count": 32,
   "metadata": {},
   "outputs": [],
   "source": [
    "# nltk.download('wordnet')"
   ]
  },
  {
   "cell_type": "code",
   "execution_count": 33,
   "metadata": {},
   "outputs": [],
   "source": [
    "from nltk.stem import WordNetLemmatizer"
   ]
  },
  {
   "cell_type": "code",
   "execution_count": 34,
   "metadata": {},
   "outputs": [],
   "source": [
    "lemmitiser=WordNetLemmatizer()"
   ]
  },
  {
   "cell_type": "markdown",
   "metadata": {},
   "source": [
    "pos tag:\n",
    "'n' : noun\n",
    "'a' : adjective\n",
    "'r' : adverb\n",
    "'v' : verb"
   ]
  },
  {
   "cell_type": "code",
   "execution_count": 35,
   "metadata": {},
   "outputs": [
    {
     "data": {
      "text/plain": [
       "'Going'"
      ]
     },
     "execution_count": 35,
     "metadata": {},
     "output_type": "execute_result"
    }
   ],
   "source": [
    "lemmitiser.lemmatize('Going',pos='n')"
   ]
  },
  {
   "cell_type": "code",
   "execution_count": 36,
   "metadata": {},
   "outputs": [
    {
     "data": {
      "text/plain": [
       "'Going'"
      ]
     },
     "execution_count": 36,
     "metadata": {},
     "output_type": "execute_result"
    }
   ],
   "source": [
    "lemmitiser.lemmatize('Going',pos='v')"
   ]
  },
  {
   "cell_type": "code",
   "execution_count": 37,
   "metadata": {},
   "outputs": [
    {
     "data": {
      "text/plain": [
       "'Going'"
      ]
     },
     "execution_count": 37,
     "metadata": {},
     "output_type": "execute_result"
    }
   ],
   "source": [
    "lemmitiser.lemmatize('Going',pos='r')"
   ]
  },
  {
   "cell_type": "code",
   "execution_count": 38,
   "metadata": {},
   "outputs": [
    {
     "data": {
      "text/plain": [
       "'Goes'"
      ]
     },
     "execution_count": 38,
     "metadata": {},
     "output_type": "execute_result"
    }
   ],
   "source": [
    "lemmitiser.lemmatize('Goes',pos='v')"
   ]
  },
  {
   "cell_type": "markdown",
   "metadata": {},
   "source": [
    "STOP WORDS"
   ]
  },
  {
   "cell_type": "code",
   "execution_count": 39,
   "metadata": {},
   "outputs": [],
   "source": [
    "from nltk.corpus import stopwords"
   ]
  },
  {
   "cell_type": "code",
   "execution_count": 40,
   "metadata": {},
   "outputs": [],
   "source": [
    "# nltk.download('stopwords')"
   ]
  },
  {
   "cell_type": "code",
   "execution_count": 41,
   "metadata": {},
   "outputs": [
    {
     "data": {
      "text/plain": [
       "['i',\n",
       " 'me',\n",
       " 'my',\n",
       " 'myself',\n",
       " 'we',\n",
       " 'our',\n",
       " 'ours',\n",
       " 'ourselves',\n",
       " 'you',\n",
       " \"you're\",\n",
       " \"you've\",\n",
       " \"you'll\",\n",
       " \"you'd\",\n",
       " 'your',\n",
       " 'yours',\n",
       " 'yourself',\n",
       " 'yourselves',\n",
       " 'he',\n",
       " 'him',\n",
       " 'his',\n",
       " 'himself',\n",
       " 'she',\n",
       " \"she's\",\n",
       " 'her',\n",
       " 'hers',\n",
       " 'herself',\n",
       " 'it',\n",
       " \"it's\",\n",
       " 'its',\n",
       " 'itself',\n",
       " 'they',\n",
       " 'them',\n",
       " 'their',\n",
       " 'theirs',\n",
       " 'themselves',\n",
       " 'what',\n",
       " 'which',\n",
       " 'who',\n",
       " 'whom',\n",
       " 'this',\n",
       " 'that',\n",
       " \"that'll\",\n",
       " 'these',\n",
       " 'those',\n",
       " 'am',\n",
       " 'is',\n",
       " 'are',\n",
       " 'was',\n",
       " 'were',\n",
       " 'be',\n",
       " 'been',\n",
       " 'being',\n",
       " 'have',\n",
       " 'has',\n",
       " 'had',\n",
       " 'having',\n",
       " 'do',\n",
       " 'does',\n",
       " 'did',\n",
       " 'doing',\n",
       " 'a',\n",
       " 'an',\n",
       " 'the',\n",
       " 'and',\n",
       " 'but',\n",
       " 'if',\n",
       " 'or',\n",
       " 'because',\n",
       " 'as',\n",
       " 'until',\n",
       " 'while',\n",
       " 'of',\n",
       " 'at',\n",
       " 'by',\n",
       " 'for',\n",
       " 'with',\n",
       " 'about',\n",
       " 'against',\n",
       " 'between',\n",
       " 'into',\n",
       " 'through',\n",
       " 'during',\n",
       " 'before',\n",
       " 'after',\n",
       " 'above',\n",
       " 'below',\n",
       " 'to',\n",
       " 'from',\n",
       " 'up',\n",
       " 'down',\n",
       " 'in',\n",
       " 'out',\n",
       " 'on',\n",
       " 'off',\n",
       " 'over',\n",
       " 'under',\n",
       " 'again',\n",
       " 'further',\n",
       " 'then',\n",
       " 'once',\n",
       " 'here',\n",
       " 'there',\n",
       " 'when',\n",
       " 'where',\n",
       " 'why',\n",
       " 'how',\n",
       " 'all',\n",
       " 'any',\n",
       " 'both',\n",
       " 'each',\n",
       " 'few',\n",
       " 'more',\n",
       " 'most',\n",
       " 'other',\n",
       " 'some',\n",
       " 'such',\n",
       " 'no',\n",
       " 'nor',\n",
       " 'not',\n",
       " 'only',\n",
       " 'own',\n",
       " 'same',\n",
       " 'so',\n",
       " 'than',\n",
       " 'too',\n",
       " 'very',\n",
       " 's',\n",
       " 't',\n",
       " 'can',\n",
       " 'will',\n",
       " 'just',\n",
       " 'don',\n",
       " \"don't\",\n",
       " 'should',\n",
       " \"should've\",\n",
       " 'now',\n",
       " 'd',\n",
       " 'll',\n",
       " 'm',\n",
       " 'o',\n",
       " 're',\n",
       " 've',\n",
       " 'y',\n",
       " 'ain',\n",
       " 'aren',\n",
       " \"aren't\",\n",
       " 'couldn',\n",
       " \"couldn't\",\n",
       " 'didn',\n",
       " \"didn't\",\n",
       " 'doesn',\n",
       " \"doesn't\",\n",
       " 'hadn',\n",
       " \"hadn't\",\n",
       " 'hasn',\n",
       " \"hasn't\",\n",
       " 'haven',\n",
       " \"haven't\",\n",
       " 'isn',\n",
       " \"isn't\",\n",
       " 'ma',\n",
       " 'mightn',\n",
       " \"mightn't\",\n",
       " 'mustn',\n",
       " \"mustn't\",\n",
       " 'needn',\n",
       " \"needn't\",\n",
       " 'shan',\n",
       " \"shan't\",\n",
       " 'shouldn',\n",
       " \"shouldn't\",\n",
       " 'wasn',\n",
       " \"wasn't\",\n",
       " 'weren',\n",
       " \"weren't\",\n",
       " 'won',\n",
       " \"won't\",\n",
       " 'wouldn',\n",
       " \"wouldn't\"]"
      ]
     },
     "execution_count": 41,
     "metadata": {},
     "output_type": "execute_result"
    }
   ],
   "source": [
    "stopwords.words('english')"
   ]
  },
  {
   "cell_type": "markdown",
   "metadata": {},
   "source": [
    "REMOVE STOPWORDS ANT THEN APPLY STEMMING/LEMMATIZATION"
   ]
  },
  {
   "cell_type": "code",
   "execution_count": 42,
   "metadata": {},
   "outputs": [
    {
     "data": {
      "text/plain": [
       "['On a bright summer morning, the bustling city streets were alive with the sound of vendors setting up their stalls.',\n",
       " 'People hurried past, some on their way to work, others simply enjoying a leisurely stroll.',\n",
       " 'The scent of freshly baked bread filled the air as a bakery opened its doors for the day.',\n",
       " \"Across the street, a group of tourists gathered around a guide, eager to learn about the city's rich history.\",\n",
       " 'Meanwhile, in a nearby park, children played on the swings, their laughter echoing through the trees.',\n",
       " 'In the distance, a construction crew worked on a new high-rise building, the sound of machinery blending with the honking of cars.',\n",
       " 'As the day went on, the sun climbed higher in the sky, casting long shadows on the pavement.',\n",
       " 'The afternoon brought a light drizzle, cooling the air and prompting people to open their umbrellas.',\n",
       " 'Despite the rain, the city remained vibrant, a constant hum of activity and life.']"
      ]
     },
     "execution_count": 42,
     "metadata": {},
     "output_type": "execute_result"
    }
   ],
   "source": [
    "documents"
   ]
  },
  {
   "cell_type": "code",
   "execution_count": 43,
   "metadata": {},
   "outputs": [
    {
     "data": {
      "text/plain": [
       "list"
      ]
     },
     "execution_count": 43,
     "metadata": {},
     "output_type": "execute_result"
    }
   ],
   "source": [
    "type(documents)"
   ]
  },
  {
   "cell_type": "markdown",
   "metadata": {},
   "source": [
    "word_tokenize---->remove stop words----> Porter stemming"
   ]
  },
  {
   "cell_type": "code",
   "execution_count": 44,
   "metadata": {},
   "outputs": [],
   "source": [
    "for i in range(len(documents)):\n",
    "    words=nltk.word_tokenize(documents[i])\n",
    "    words=[porter.stem(w) for w in words if w not in (stopwords.words('english'))]\n",
    "    documents[i]=' '.join(words)"
   ]
  },
  {
   "cell_type": "code",
   "execution_count": 45,
   "metadata": {},
   "outputs": [
    {
     "data": {
      "text/plain": [
       "['on bright summer morn , bustl citi street aliv sound vendor set stall .',\n",
       " 'peopl hurri past , way work , other simpli enjoy leisur stroll .',\n",
       " 'the scent freshli bake bread fill air bakeri open door day .',\n",
       " \"across street , group tourist gather around guid , eager learn citi 's rich histori .\",\n",
       " 'meanwhil , nearbi park , children play swing , laughter echo tree .',\n",
       " 'in distanc , construct crew work new high-ris build , sound machineri blend honk car .',\n",
       " 'as day went , sun climb higher sky , cast long shadow pavement .',\n",
       " 'the afternoon brought light drizzl , cool air prompt peopl open umbrella .',\n",
       " 'despit rain , citi remain vibrant , constant hum activ life .']"
      ]
     },
     "execution_count": 45,
     "metadata": {},
     "output_type": "execute_result"
    }
   ],
   "source": [
    "documents"
   ]
  },
  {
   "cell_type": "markdown",
   "metadata": {},
   "source": [
    "word_tokenize---->remove stop words----> snowball stemming"
   ]
  },
  {
   "cell_type": "code",
   "execution_count": 46,
   "metadata": {},
   "outputs": [],
   "source": [
    "documents=sent_tokenize(corpus)"
   ]
  },
  {
   "cell_type": "code",
   "execution_count": 47,
   "metadata": {},
   "outputs": [],
   "source": [
    "for i in range(len(documents)):\n",
    "    words=nltk.word_tokenize(documents[i])\n",
    "    words=[snow_stem.stem(w) for w in words if w not in (stopwords.words('english'))]\n",
    "    documents[i]=' '.join(words)"
   ]
  },
  {
   "cell_type": "code",
   "execution_count": 48,
   "metadata": {},
   "outputs": [
    {
     "data": {
      "text/plain": [
       "['on bright summer morn , bustl citi street aliv sound vendor set stall .',\n",
       " 'peopl hurri past , way work , other simpli enjoy leisur stroll .',\n",
       " 'the scent fresh bake bread fill air bakeri open door day .',\n",
       " \"across street , group tourist gather around guid , eager learn citi 's rich histori .\",\n",
       " 'meanwhil , nearbi park , children play swing , laughter echo tree .',\n",
       " 'in distanc , construct crew work new high-ris build , sound machineri blend honk car .',\n",
       " 'as day went , sun climb higher sky , cast long shadow pavement .',\n",
       " 'the afternoon brought light drizzl , cool air prompt peopl open umbrella .',\n",
       " 'despit rain , citi remain vibrant , constant hum activ life .']"
      ]
     },
     "execution_count": 48,
     "metadata": {},
     "output_type": "execute_result"
    }
   ],
   "source": [
    "documents"
   ]
  },
  {
   "cell_type": "markdown",
   "metadata": {},
   "source": [
    "word_tokenize---->remove stop words----> lemmitization"
   ]
  },
  {
   "cell_type": "code",
   "execution_count": 49,
   "metadata": {},
   "outputs": [],
   "source": [
    "documents=sent_tokenize(corpus)"
   ]
  },
  {
   "cell_type": "code",
   "execution_count": 50,
   "metadata": {},
   "outputs": [],
   "source": [
    "for i in range(len(documents)):\n",
    "    words=nltk.word_tokenize(documents[i])\n",
    "    words=[lemmitiser.lemmatize(w) for w in words if w not in (stopwords.words('english'))]\n",
    "    documents[i]=' '.join(words)"
   ]
  },
  {
   "cell_type": "code",
   "execution_count": 51,
   "metadata": {},
   "outputs": [
    {
     "data": {
      "text/plain": [
       "['On bright summer morning , bustling city street alive sound vendor setting stall .',\n",
       " 'People hurried past , way work , others simply enjoying leisurely stroll .',\n",
       " 'The scent freshly baked bread filled air bakery opened door day .',\n",
       " \"Across street , group tourist gathered around guide , eager learn city 's rich history .\",\n",
       " 'Meanwhile , nearby park , child played swing , laughter echoing tree .',\n",
       " 'In distance , construction crew worked new high-rise building , sound machinery blending honking car .',\n",
       " 'As day went , sun climbed higher sky , casting long shadow pavement .',\n",
       " 'The afternoon brought light drizzle , cooling air prompting people open umbrella .',\n",
       " 'Despite rain , city remained vibrant , constant hum activity life .']"
      ]
     },
     "execution_count": 51,
     "metadata": {},
     "output_type": "execute_result"
    }
   ],
   "source": [
    "documents"
   ]
  },
  {
   "cell_type": "markdown",
   "metadata": {},
   "source": [
    "Part of speech tagging - for lemmitization"
   ]
  },
  {
   "cell_type": "code",
   "execution_count": 55,
   "metadata": {},
   "outputs": [
    {
     "name": "stderr",
     "output_type": "stream",
     "text": [
      "[nltk_data] Downloading package averaged_perceptron_tagger to\n",
      "[nltk_data]     C:\\Users\\ranji\\AppData\\Roaming\\nltk_data...\n",
      "[nltk_data]   Unzipping taggers\\averaged_perceptron_tagger.zip.\n"
     ]
    },
    {
     "data": {
      "text/plain": [
       "True"
      ]
     },
     "execution_count": 55,
     "metadata": {},
     "output_type": "execute_result"
    }
   ],
   "source": [
    "nltk.download('averaged_perceptron_tagger')"
   ]
  },
  {
   "cell_type": "code",
   "execution_count": null,
   "metadata": {},
   "outputs": [
    {
     "name": "stdout",
     "output_type": "stream",
     "text": [
      "[('On', 'IN'), ('bright', 'JJ'), ('summer', 'NN'), ('morning', 'NN'), (',', ','), ('bustling', 'VBG'), ('city', 'NN'), ('street', 'NN'), ('alive', 'JJ'), ('sound', 'NN'), ('vendor', 'IN'), ('setting', 'VBG'), ('stall', 'NN'), ('.', '.')]\n",
      "[('People', 'NNS'), ('hurried', 'VBD'), ('past', 'JJ'), (',', ','), ('way', 'NN'), ('work', 'NN'), (',', ','), ('others', 'NNS'), ('simply', 'RB'), ('enjoying', 'VBG'), ('leisurely', 'RB'), ('stroll', 'NN'), ('.', '.')]\n",
      "[('The', 'DT'), ('scent', 'NN'), ('freshly', 'RB'), ('baked', 'VBN'), ('bread', 'NN'), ('filled', 'VBN'), ('air', 'NN'), ('bakery', 'NN'), ('opened', 'VBD'), ('door', 'JJ'), ('day', 'NN'), ('.', '.')]\n",
      "[('Across', 'NNP'), ('street', 'NN'), (',', ','), ('group', 'NN'), ('tourist', 'NN'), ('gathered', 'VBD'), ('around', 'IN'), ('guide', 'NN'), (',', ','), ('eager', 'JJ'), ('learn', 'VBP'), ('city', 'NN'), (\"'s\", 'POS'), ('rich', 'JJ'), ('history', 'NN'), ('.', '.')]\n",
      "[('Meanwhile', 'RB'), (',', ','), ('nearby', 'RB'), ('park', 'NN'), (',', ','), ('child', 'NN'), ('played', 'VBD'), ('swing', 'NN'), (',', ','), ('laughter', 'NN'), ('echoing', 'VBG'), ('tree', 'NN'), ('.', '.')]\n",
      "[('In', 'IN'), ('distance', 'NN'), (',', ','), ('construction', 'NN'), ('crew', 'NN'), ('worked', 'VBD'), ('new', 'JJ'), ('high-rise', 'NN'), ('building', 'NN'), (',', ','), ('sound', 'JJ'), ('machinery', 'NN'), ('blending', 'VBG'), ('honking', 'VBG'), ('car', 'NN'), ('.', '.')]\n",
      "[('As', 'IN'), ('day', 'NN'), ('went', 'VBD'), (',', ','), ('sun', 'NN'), ('climbed', 'VBD'), ('higher', 'JJR'), ('sky', 'NN'), (',', ','), ('casting', 'VBG'), ('long', 'JJ'), ('shadow', 'JJ'), ('pavement', 'NN'), ('.', '.')]\n",
      "[('The', 'DT'), ('afternoon', 'NN'), ('brought', 'VBD'), ('light', 'JJ'), ('drizzle', 'NN'), (',', ','), ('cooling', 'VBG'), ('air', 'NN'), ('prompting', 'VBG'), ('people', 'NNS'), ('open', 'JJ'), ('umbrella', 'NN'), ('.', '.')]\n",
      "[('Despite', 'IN'), ('rain', 'NN'), (',', ','), ('city', 'NN'), ('remained', 'VBD'), ('vibrant', 'JJ'), (',', ','), ('constant', 'JJ'), ('hum', 'NN'), ('activity', 'NN'), ('life', 'NN'), ('.', '.')]\n"
     ]
    }
   ],
   "source": [
    "for i in range(len(documents)):\n",
    "    words=nltk.word_tokenize(documents[i])\n",
    "    words=[w for w in words if w not in (stopwords.words('english'))]\n",
    "    pos_tag=nltk.pos_tag(words)\n",
    "    print(pos_tag)"
   ]
  },
  {
   "cell_type": "markdown",
   "metadata": {},
   "source": [
    "NAMED ENTITY RECOGNITION"
   ]
  },
  {
   "cell_type": "code",
   "execution_count": 59,
   "metadata": {},
   "outputs": [],
   "source": [
    "words=nltk.word_tokenize(corpus)"
   ]
  },
  {
   "cell_type": "code",
   "execution_count": 60,
   "metadata": {},
   "outputs": [],
   "source": [
    "pos_tag=nltk.pos_tag(words)"
   ]
  },
  {
   "cell_type": "code",
   "execution_count": 62,
   "metadata": {},
   "outputs": [],
   "source": [
    "# pos_tag"
   ]
  },
  {
   "cell_type": "code",
   "execution_count": 68,
   "metadata": {},
   "outputs": [],
   "source": [
    "# nltk.download('maxent_ne_chunker')\n",
    "# nltk.download('words')"
   ]
  },
  {
   "cell_type": "code",
   "execution_count": 75,
   "metadata": {},
   "outputs": [],
   "source": [
    "# pip install svgling"
   ]
  },
  {
   "cell_type": "code",
   "execution_count": 72,
   "metadata": {},
   "outputs": [],
   "source": [
    "import svgling"
   ]
  },
  {
   "cell_type": "code",
   "execution_count": 74,
   "metadata": {},
   "outputs": [],
   "source": [
    "nltk.ne_chunk(pos_tag).draw()"
   ]
  },
  {
   "cell_type": "code",
   "execution_count": null,
   "metadata": {},
   "outputs": [],
   "source": []
  }
 ],
 "metadata": {
  "kernelspec": {
   "display_name": "base",
   "language": "python",
   "name": "python3"
  },
  "language_info": {
   "codemirror_mode": {
    "name": "ipython",
    "version": 3
   },
   "file_extension": ".py",
   "mimetype": "text/x-python",
   "name": "python",
   "nbconvert_exporter": "python",
   "pygments_lexer": "ipython3",
   "version": "3.11.5"
  }
 },
 "nbformat": 4,
 "nbformat_minor": 2
}
